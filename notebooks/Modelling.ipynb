{
 "cells": [
  {
   "cell_type": "markdown",
   "metadata": {},
   "source": [
    "# **Installation of required libraries**"
   ]
  },
  {
   "cell_type": "code",
   "execution_count": 27,
   "metadata": {},
   "outputs": [],
   "source": [
    "# pip install boruta"
   ]
  },
  {
   "cell_type": "code",
   "execution_count": 28,
   "metadata": {},
   "outputs": [],
   "source": [
    "import pandas as pd\n",
    "import numpy as np\n",
    "import sklearn.metrics as metrics\n",
    "from sklearn.metrics import precision_score, recall_score, f1_score, accuracy_score\n",
    "\n",
    "from sklearn.model_selection import train_test_split\n",
    "from sklearn.preprocessing import LabelEncoder, MinMaxScaler\n",
    "\n",
    "from boruta import BorutaPy as bp\n",
    "from sklearn.linear_model import LinearRegression\n",
    "from sklearn.ensemble import RandomForestRegressor\n",
    "from sklearn.ensemble import RandomForestClassifier\n",
    "from xgboost import XGBClassifier\n",
    "import joblib"
   ]
  },
  {
   "cell_type": "code",
   "execution_count": 29,
   "metadata": {},
   "outputs": [
    {
     "data": {
      "text/html": [
       "<div>\n",
       "<style scoped>\n",
       "    .dataframe tbody tr th:only-of-type {\n",
       "        vertical-align: middle;\n",
       "    }\n",
       "\n",
       "    .dataframe tbody tr th {\n",
       "        vertical-align: top;\n",
       "    }\n",
       "\n",
       "    .dataframe thead th {\n",
       "        text-align: right;\n",
       "    }\n",
       "</style>\n",
       "<table border=\"1\" class=\"dataframe\">\n",
       "  <thead>\n",
       "    <tr style=\"text-align: right;\">\n",
       "      <th></th>\n",
       "      <th>year</th>\n",
       "      <th>month</th>\n",
       "      <th>town</th>\n",
       "      <th>flat_type</th>\n",
       "      <th>storey_range</th>\n",
       "      <th>floor_area_sqm</th>\n",
       "      <th>flat_model</th>\n",
       "      <th>lease_commence_date</th>\n",
       "      <th>remaining_lease</th>\n",
       "      <th>resale_price</th>\n",
       "      <th>town_le</th>\n",
       "      <th>flat_type_le</th>\n",
       "      <th>storey_range_le</th>\n",
       "      <th>flat_model_le</th>\n",
       "      <th>price_category</th>\n",
       "    </tr>\n",
       "  </thead>\n",
       "  <tbody>\n",
       "    <tr>\n",
       "      <th>0</th>\n",
       "      <td>1990</td>\n",
       "      <td>1</td>\n",
       "      <td>ANG MO KIO</td>\n",
       "      <td>1 ROOM</td>\n",
       "      <td>10 TO 12</td>\n",
       "      <td>31.0</td>\n",
       "      <td>IMPROVED</td>\n",
       "      <td>1977</td>\n",
       "      <td>86.0</td>\n",
       "      <td>9000.0</td>\n",
       "      <td>0</td>\n",
       "      <td>0</td>\n",
       "      <td>5</td>\n",
       "      <td>7</td>\n",
       "      <td>low</td>\n",
       "    </tr>\n",
       "    <tr>\n",
       "      <th>1</th>\n",
       "      <td>1990</td>\n",
       "      <td>1</td>\n",
       "      <td>ANG MO KIO</td>\n",
       "      <td>1 ROOM</td>\n",
       "      <td>04 TO 06</td>\n",
       "      <td>31.0</td>\n",
       "      <td>IMPROVED</td>\n",
       "      <td>1977</td>\n",
       "      <td>86.0</td>\n",
       "      <td>6000.0</td>\n",
       "      <td>0</td>\n",
       "      <td>0</td>\n",
       "      <td>2</td>\n",
       "      <td>7</td>\n",
       "      <td>low</td>\n",
       "    </tr>\n",
       "    <tr>\n",
       "      <th>2</th>\n",
       "      <td>1990</td>\n",
       "      <td>1</td>\n",
       "      <td>ANG MO KIO</td>\n",
       "      <td>1 ROOM</td>\n",
       "      <td>10 TO 12</td>\n",
       "      <td>31.0</td>\n",
       "      <td>IMPROVED</td>\n",
       "      <td>1977</td>\n",
       "      <td>86.0</td>\n",
       "      <td>8000.0</td>\n",
       "      <td>0</td>\n",
       "      <td>0</td>\n",
       "      <td>5</td>\n",
       "      <td>7</td>\n",
       "      <td>low</td>\n",
       "    </tr>\n",
       "    <tr>\n",
       "      <th>3</th>\n",
       "      <td>1990</td>\n",
       "      <td>1</td>\n",
       "      <td>ANG MO KIO</td>\n",
       "      <td>1 ROOM</td>\n",
       "      <td>07 TO 09</td>\n",
       "      <td>31.0</td>\n",
       "      <td>IMPROVED</td>\n",
       "      <td>1977</td>\n",
       "      <td>86.0</td>\n",
       "      <td>6000.0</td>\n",
       "      <td>0</td>\n",
       "      <td>0</td>\n",
       "      <td>4</td>\n",
       "      <td>7</td>\n",
       "      <td>low</td>\n",
       "    </tr>\n",
       "    <tr>\n",
       "      <th>4</th>\n",
       "      <td>1990</td>\n",
       "      <td>1</td>\n",
       "      <td>ANG MO KIO</td>\n",
       "      <td>3 ROOM</td>\n",
       "      <td>04 TO 06</td>\n",
       "      <td>73.0</td>\n",
       "      <td>NEW GENERATION</td>\n",
       "      <td>1976</td>\n",
       "      <td>85.0</td>\n",
       "      <td>47200.0</td>\n",
       "      <td>0</td>\n",
       "      <td>2</td>\n",
       "      <td>2</td>\n",
       "      <td>20</td>\n",
       "      <td>low</td>\n",
       "    </tr>\n",
       "  </tbody>\n",
       "</table>\n",
       "</div>"
      ],
      "text/plain": [
       "   year  month        town flat_type storey_range  floor_area_sqm  \\\n",
       "0  1990      1  ANG MO KIO    1 ROOM     10 TO 12            31.0   \n",
       "1  1990      1  ANG MO KIO    1 ROOM     04 TO 06            31.0   \n",
       "2  1990      1  ANG MO KIO    1 ROOM     10 TO 12            31.0   \n",
       "3  1990      1  ANG MO KIO    1 ROOM     07 TO 09            31.0   \n",
       "4  1990      1  ANG MO KIO    3 ROOM     04 TO 06            73.0   \n",
       "\n",
       "       flat_model  lease_commence_date  remaining_lease  resale_price  \\\n",
       "0        IMPROVED                 1977             86.0        9000.0   \n",
       "1        IMPROVED                 1977             86.0        6000.0   \n",
       "2        IMPROVED                 1977             86.0        8000.0   \n",
       "3        IMPROVED                 1977             86.0        6000.0   \n",
       "4  NEW GENERATION                 1976             85.0       47200.0   \n",
       "\n",
       "   town_le  flat_type_le  storey_range_le  flat_model_le price_category  \n",
       "0        0             0                5              7            low  \n",
       "1        0             0                2              7            low  \n",
       "2        0             0                5              7            low  \n",
       "3        0             0                4              7            low  \n",
       "4        0             2                2             20            low  "
      ]
     },
     "execution_count": 29,
     "metadata": {},
     "output_type": "execute_result"
    }
   ],
   "source": [
    "df = pd.read_csv('../data/ResaleFlatPrice_Formatted.csv')\n",
    "df.head()"
   ]
  },
  {
   "cell_type": "markdown",
   "metadata": {},
   "source": [
    "# Feature Selection"
   ]
  },
  {
   "cell_type": "code",
   "execution_count": 30,
   "metadata": {},
   "outputs": [],
   "source": [
    "le = LabelEncoder()\n",
    "\n",
    "df['town_le'] = le.fit_transform(df['town'])\n",
    "df['flat_type_le'] = le.fit_transform(df['flat_type'])\n",
    "df['storey_range_le'] = le.fit_transform(df['storey_range'])\n",
    "df['flat_model_le'] = le.fit_transform(df['flat_model'])"
   ]
  },
  {
   "cell_type": "code",
   "execution_count": 31,
   "metadata": {},
   "outputs": [],
   "source": [
    "new_df = df[['town_le', 'flat_type_le', 'storey_range_le', 'flat_model_le', 'floor_area_sqm', 'remaining_lease', 'resale_price', 'price_category']].copy()\n",
    "new_df.columns = ['town', 'flat_type', 'storey_range', 'flat_model', 'floor_area_sqm', 'remaining_lease', 'resale_price', 'price_category']"
   ]
  },
  {
   "cell_type": "markdown",
   "metadata": {},
   "source": [
    "# Modelling"
   ]
  },
  {
   "cell_type": "markdown",
   "metadata": {},
   "source": [
    "## Regression"
   ]
  },
  {
   "cell_type": "code",
   "execution_count": 32,
   "metadata": {},
   "outputs": [],
   "source": [
    "regression_df = new_df[['town', 'flat_type', 'storey_range', 'floor_area_sqm', 'flat_model', 'remaining_lease', 'resale_price']]\n",
    "\n",
    "X = regression_df.drop(columns=['resale_price'])\n",
    "y = regression_df['resale_price']"
   ]
  },
  {
   "cell_type": "code",
   "execution_count": 33,
   "metadata": {},
   "outputs": [
    {
     "name": "stdout",
     "output_type": "stream",
     "text": [
      "Train Set : (732407, 6) (732407,)\n",
      "Test Set  : (183102, 6) (183102,)\n"
     ]
    }
   ],
   "source": [
    "X_train, X_test, y_train, y_test = train_test_split(X, y, test_size=0.2, random_state=42)\n",
    "\n",
    "print(\"Train Set :\", X_train.shape, y_train.shape)\n",
    "print(\"Test Set  :\", X_test.shape, y_test.shape)"
   ]
  },
  {
   "cell_type": "code",
   "execution_count": 34,
   "metadata": {},
   "outputs": [],
   "source": [
    "rf_regression = RandomForestRegressor().fit(X_train, y_train)\n",
    "y_pred_rf = rf_regression.predict(X_test)\n",
    "\n",
    "lr_regression = LinearRegression().fit(X_train, y_train)\n",
    "y_pred_lr = lr_regression.predict(X_test)\n",
    "\n"
   ]
  },
  {
   "cell_type": "code",
   "execution_count": null,
   "metadata": {},
   "outputs": [],
   "source": [
    "# To save the trained model\n",
    "joblib.dump(rf_regression, '../models/rf_regression.sav')\n",
    "joblib.dump(lr_regression, '../models/lr_regression.sav')"
   ]
  },
  {
   "cell_type": "code",
   "execution_count": null,
   "metadata": {},
   "outputs": [],
   "source": [
    "def evaluationRegressionModel(model, y_test, y_pred):\n",
    "    mae = metrics.mean_absolute_error(y_test, y_pred)\n",
    "    mse = metrics.mean_squared_error(y_test, y_pred)\n",
    "    rmse = np.sqrt(mse)\n",
    "    r2 = metrics.r2_score(y_test, y_pred)\n",
    "\n",
    "    print(\"-----\" + model + \"-----\")\n",
    "    print(\"Mean Absolute Error: \", round(mae,2))\n",
    "    print(\"Mean Square Error: \", round(mse,2))\n",
    "    print(\"Root Mean Square Error: \", round(rmse,2))\n",
    "    print(\"R-squared: \", round(r2,4))\n"
   ]
  },
  {
   "cell_type": "code",
   "execution_count": 37,
   "metadata": {},
   "outputs": [
    {
     "name": "stdout",
     "output_type": "stream",
     "text": [
      "-----Random Forest Regression-----\n",
      "Mean Absolute Error:  31760.17\n",
      "Mean Square Error:  2414530881.87\n",
      "Root Mean Square Error:  49137.88\n",
      "R-squared:  0.9142\n"
     ]
    }
   ],
   "source": [
    "evaluationRegressionModel(\"Random Forest Regression\", y_test, y_pred_rf)"
   ]
  },
  {
   "cell_type": "code",
   "execution_count": 38,
   "metadata": {},
   "outputs": [
    {
     "name": "stdout",
     "output_type": "stream",
     "text": [
      "-----Linear Regression-----\n",
      "Mean Absolute Error:  89085.32\n",
      "Mean Square Error:  14991437102.01\n",
      "Root Mean Square Error:  122439.52\n",
      "R-squared:  0.4673\n"
     ]
    }
   ],
   "source": [
    "evaluationRegressionModel(\"Linear Regression\", y_test, y_pred_lr)"
   ]
  },
  {
   "cell_type": "markdown",
   "metadata": {},
   "source": [
    "## Classification"
   ]
  },
  {
   "cell_type": "code",
   "execution_count": 42,
   "metadata": {},
   "outputs": [
    {
     "name": "stderr",
     "output_type": "stream",
     "text": [
      "C:\\Users\\USER\\AppData\\Local\\Temp\\ipykernel_8408\\535696245.py:4: SettingWithCopyWarning: \n",
      "A value is trying to be set on a copy of a slice from a DataFrame.\n",
      "Try using .loc[row_indexer,col_indexer] = value instead\n",
      "\n",
      "See the caveats in the documentation: https://pandas.pydata.org/pandas-docs/stable/user_guide/indexing.html#returning-a-view-versus-a-copy\n",
      "  classification_df['price_category'] = [price_category[item] for item in classification_df['price_category']]\n"
     ]
    }
   ],
   "source": [
    "classification_df = new_df[['town', 'flat_type', 'storey_range', 'floor_area_sqm', 'flat_model', 'remaining_lease', 'price_category']]\n",
    "\n",
    "price_category = {'low': 0, 'medium': 1, 'high': 2}\n",
    "classification_df['price_category'] = [price_category[item] for item in classification_df['price_category']]\n",
    "\n",
    "X = classification_df.drop(columns=['price_category'])\n",
    "y = classification_df['price_category']"
   ]
  },
  {
   "cell_type": "code",
   "execution_count": 43,
   "metadata": {},
   "outputs": [
    {
     "name": "stdout",
     "output_type": "stream",
     "text": [
      "Train Set : (732407, 6) (732407,)\n",
      "Test Set  : (183102, 6) (183102,)\n"
     ]
    }
   ],
   "source": [
    "X_train, X_test, y_train, y_test = train_test_split(X, y, test_size=0.20, random_state=42)\n",
    "\n",
    "print(\"Train Set :\", X_train.shape, y_train.shape)\n",
    "print(\"Test Set  :\", X_test.shape, y_test.shape)"
   ]
  },
  {
   "cell_type": "code",
   "execution_count": 44,
   "metadata": {},
   "outputs": [],
   "source": [
    "rf_classification = RandomForestClassifier().fit(X_train, y_train)\n",
    "y_pred_rfc = rf_classification.predict(X_test)\n",
    "\n",
    "xgb_classification = XGBClassifier().fit(X_train, y_train)\n",
    "y_pred_xgb = xgb_classification.predict(X_test)"
   ]
  },
  {
   "cell_type": "code",
   "execution_count": 45,
   "metadata": {},
   "outputs": [
    {
     "data": {
      "text/plain": [
       "['../models/xgb_classification.sav']"
      ]
     },
     "execution_count": 45,
     "metadata": {},
     "output_type": "execute_result"
    }
   ],
   "source": [
    "# To save the trained model\n",
    "joblib.dump(rf_classification, '../models/rf_classification.sav')\n",
    "joblib.dump(xgb_classification, '../models/xgb_classification.sav')"
   ]
  },
  {
   "cell_type": "code",
   "execution_count": 46,
   "metadata": {},
   "outputs": [],
   "source": [
    "def evaluationClassificationModel(model, y_test, y_pred):\n",
    "    accuracy = accuracy_score(y_test, y_pred)\n",
    "    precision = precision_score(y_test, y_pred, average='macro')\n",
    "    recall = recall_score(y_test, y_pred, average='macro')\n",
    "    f1 = f1_score(y_test, y_pred, average='macro')\n",
    "\n",
    "    print(\"-----\" + model + \"-----\")\n",
    "    print(\"Accuracy Score: \", round(accuracy,4))\n",
    "    print(\"Precision: \", round(precision,4))\n",
    "    print(\"Recall: \", round(recall,4))\n",
    "    print(\"F1-Score: \", round(f1,4))"
   ]
  },
  {
   "cell_type": "code",
   "execution_count": 47,
   "metadata": {},
   "outputs": [
    {
     "name": "stdout",
     "output_type": "stream",
     "text": [
      "-----Random Forest Classifier-----\n",
      "Accuracy Score:  0.9525\n",
      "Precision:  0.8415\n",
      "Recall:  0.7455\n",
      "F1-Score:  0.7843\n"
     ]
    }
   ],
   "source": [
    "evaluationClassificationModel(\"Random Forest Classifier\", y_test, y_pred_rfc)"
   ]
  },
  {
   "cell_type": "code",
   "execution_count": 48,
   "metadata": {},
   "outputs": [
    {
     "name": "stdout",
     "output_type": "stream",
     "text": [
      "-----XG-Boosting Classifier-----\n",
      "Accuracy Score:  0.9474\n",
      "Precision:  0.8612\n",
      "Recall:  0.7145\n",
      "F1-Score:  0.7713\n"
     ]
    }
   ],
   "source": [
    "evaluationClassificationModel(\"XG-Boosting Classifier\", y_test, y_pred_xgb)"
   ]
  }
 ],
 "metadata": {
  "kernelspec": {
   "display_name": "Python 3",
   "language": "python",
   "name": "python3"
  },
  "language_info": {
   "codemirror_mode": {
    "name": "ipython",
    "version": 3
   },
   "file_extension": ".py",
   "mimetype": "text/x-python",
   "name": "python",
   "nbconvert_exporter": "python",
   "pygments_lexer": "ipython3",
   "version": "3.10.9"
  }
 },
 "nbformat": 4,
 "nbformat_minor": 2
}
